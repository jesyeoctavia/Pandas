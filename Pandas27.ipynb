{
 "cells": [
  {
   "cell_type": "markdown",
   "id": "1cfd2396-78a8-49cb-904b-797715b0b7d8",
   "metadata": {},
   "source": [
    "# Import Modules"
   ]
  },
  {
   "cell_type": "code",
   "execution_count": 1,
   "id": "d7965a7e-4164-4115-bcc1-715a41edf8cb",
   "metadata": {},
   "outputs": [
    {
     "name": "stdout",
     "output_type": "stream",
     "text": [
      "2.1.4\n"
     ]
    }
   ],
   "source": [
    "import pandas as pd\n",
    "\n",
    "print(pd.__version__)"
   ]
  },
  {
   "cell_type": "markdown",
   "id": "d9a99fb1-9faa-47fe-bb06-e3b718538dee",
   "metadata": {},
   "source": [
    "# Persiapan Data Frame"
   ]
  },
  {
   "cell_type": "code",
   "execution_count": 2,
   "id": "fad26fe7-be5f-4873-9e6f-6f982b7400d2",
   "metadata": {},
   "outputs": [
    {
     "data": {
      "text/html": [
       "<div>\n",
       "<style scoped>\n",
       "    .dataframe tbody tr th:only-of-type {\n",
       "        vertical-align: middle;\n",
       "    }\n",
       "\n",
       "    .dataframe tbody tr th {\n",
       "        vertical-align: top;\n",
       "    }\n",
       "\n",
       "    .dataframe thead th {\n",
       "        text-align: right;\n",
       "    }\n",
       "</style>\n",
       "<table border=\"1\" class=\"dataframe\">\n",
       "  <thead>\n",
       "    <tr style=\"text-align: right;\">\n",
       "      <th></th>\n",
       "      <th>dokter</th>\n",
       "      <th>pasien</th>\n",
       "    </tr>\n",
       "  </thead>\n",
       "  <tbody>\n",
       "    <tr>\n",
       "      <th>0</th>\n",
       "      <td>Budi</td>\n",
       "      <td>Abdul</td>\n",
       "    </tr>\n",
       "    <tr>\n",
       "      <th>1</th>\n",
       "      <td>Wati</td>\n",
       "      <td>Rahmat</td>\n",
       "    </tr>\n",
       "    <tr>\n",
       "      <th>2</th>\n",
       "      <td>Iwan</td>\n",
       "      <td>Asep</td>\n",
       "    </tr>\n",
       "    <tr>\n",
       "      <th>3</th>\n",
       "      <td>Budi</td>\n",
       "      <td>Joko</td>\n",
       "    </tr>\n",
       "    <tr>\n",
       "      <th>4</th>\n",
       "      <td>Budi</td>\n",
       "      <td>Wiwin</td>\n",
       "    </tr>\n",
       "    <tr>\n",
       "      <th>5</th>\n",
       "      <td>Wati</td>\n",
       "      <td>Lisa</td>\n",
       "    </tr>\n",
       "  </tbody>\n",
       "</table>\n",
       "</div>"
      ],
      "text/plain": [
       "  dokter  pasien\n",
       "0   Budi   Abdul\n",
       "1   Wati  Rahmat\n",
       "2   Iwan    Asep\n",
       "3   Budi    Joko\n",
       "4   Budi   Wiwin\n",
       "5   Wati    Lisa"
      ]
     },
     "execution_count": 2,
     "metadata": {},
     "output_type": "execute_result"
    }
   ],
   "source": [
    "d = {'dokter':['Budi', 'Wati', 'Iwan', 'Budi', 'Budi', 'Wati'], \n",
    "     'pasien':['Abdul', 'Rahmat', 'Asep', 'Joko', 'Wiwin', 'Lisa']}\n",
    "\n",
    "df = pd.DataFrame(d)\n",
    "df"
   ]
  },
  {
   "cell_type": "markdown",
   "id": "d08430e1-360c-405e-84b0-2faacf750c61",
   "metadata": {},
   "source": [
    "# Mengenal fungsi agregasi first() dan last()"
   ]
  },
  {
   "cell_type": "code",
   "execution_count": 3,
   "id": "8c5aa9df-00ba-4b72-bd71-afed5f92efc7",
   "metadata": {},
   "outputs": [
    {
     "data": {
      "text/html": [
       "<div>\n",
       "<style scoped>\n",
       "    .dataframe tbody tr th:only-of-type {\n",
       "        vertical-align: middle;\n",
       "    }\n",
       "\n",
       "    .dataframe tbody tr th {\n",
       "        vertical-align: top;\n",
       "    }\n",
       "\n",
       "    .dataframe thead th {\n",
       "        text-align: right;\n",
       "    }\n",
       "</style>\n",
       "<table border=\"1\" class=\"dataframe\">\n",
       "  <thead>\n",
       "    <tr style=\"text-align: right;\">\n",
       "      <th></th>\n",
       "      <th>pasien</th>\n",
       "    </tr>\n",
       "    <tr>\n",
       "      <th>dokter</th>\n",
       "      <th></th>\n",
       "    </tr>\n",
       "  </thead>\n",
       "  <tbody>\n",
       "    <tr>\n",
       "      <th>Budi</th>\n",
       "      <td>3</td>\n",
       "    </tr>\n",
       "    <tr>\n",
       "      <th>Iwan</th>\n",
       "      <td>1</td>\n",
       "    </tr>\n",
       "    <tr>\n",
       "      <th>Wati</th>\n",
       "      <td>2</td>\n",
       "    </tr>\n",
       "  </tbody>\n",
       "</table>\n",
       "</div>"
      ],
      "text/plain": [
       "        pasien\n",
       "dokter        \n",
       "Budi         3\n",
       "Iwan         1\n",
       "Wati         2"
      ]
     },
     "execution_count": 3,
     "metadata": {},
     "output_type": "execute_result"
    }
   ],
   "source": [
    "df.groupby('dokter')['pasien'].count().to_frame()"
   ]
  },
  {
   "cell_type": "code",
   "execution_count": 4,
   "id": "38e9b856-377e-47bb-82d5-e51b316385e8",
   "metadata": {},
   "outputs": [
    {
     "data": {
      "text/plain": [
       "dokter\n",
       "Budi    3\n",
       "Iwan    1\n",
       "Wati    2\n",
       "Name: pasien, dtype: int64"
      ]
     },
     "execution_count": 4,
     "metadata": {},
     "output_type": "execute_result"
    }
   ],
   "source": [
    "df.groupby('dokter')['pasien'].count()"
   ]
  },
  {
   "cell_type": "code",
   "execution_count": 5,
   "id": "68d7e3ea-c510-45be-9ca5-0a08181a4b9d",
   "metadata": {},
   "outputs": [
    {
     "data": {
      "text/html": [
       "<div>\n",
       "<style scoped>\n",
       "    .dataframe tbody tr th:only-of-type {\n",
       "        vertical-align: middle;\n",
       "    }\n",
       "\n",
       "    .dataframe tbody tr th {\n",
       "        vertical-align: top;\n",
       "    }\n",
       "\n",
       "    .dataframe thead th {\n",
       "        text-align: right;\n",
       "    }\n",
       "</style>\n",
       "<table border=\"1\" class=\"dataframe\">\n",
       "  <thead>\n",
       "    <tr style=\"text-align: right;\">\n",
       "      <th></th>\n",
       "      <th>pasien</th>\n",
       "    </tr>\n",
       "    <tr>\n",
       "      <th>dokter</th>\n",
       "      <th></th>\n",
       "    </tr>\n",
       "  </thead>\n",
       "  <tbody>\n",
       "    <tr>\n",
       "      <th>Budi</th>\n",
       "      <td>Abdul</td>\n",
       "    </tr>\n",
       "    <tr>\n",
       "      <th>Iwan</th>\n",
       "      <td>Asep</td>\n",
       "    </tr>\n",
       "    <tr>\n",
       "      <th>Wati</th>\n",
       "      <td>Rahmat</td>\n",
       "    </tr>\n",
       "  </tbody>\n",
       "</table>\n",
       "</div>"
      ],
      "text/plain": [
       "        pasien\n",
       "dokter        \n",
       "Budi     Abdul\n",
       "Iwan      Asep\n",
       "Wati    Rahmat"
      ]
     },
     "execution_count": 5,
     "metadata": {},
     "output_type": "execute_result"
    }
   ],
   "source": [
    "df.groupby('dokter')['pasien'].first().to_frame()"
   ]
  },
  {
   "cell_type": "code",
   "execution_count": 6,
   "id": "70e71b6a-2d89-4a55-8002-641eb48dae7c",
   "metadata": {},
   "outputs": [
    {
     "data": {
      "text/html": [
       "<div>\n",
       "<style scoped>\n",
       "    .dataframe tbody tr th:only-of-type {\n",
       "        vertical-align: middle;\n",
       "    }\n",
       "\n",
       "    .dataframe tbody tr th {\n",
       "        vertical-align: top;\n",
       "    }\n",
       "\n",
       "    .dataframe thead th {\n",
       "        text-align: right;\n",
       "    }\n",
       "</style>\n",
       "<table border=\"1\" class=\"dataframe\">\n",
       "  <thead>\n",
       "    <tr style=\"text-align: right;\">\n",
       "      <th></th>\n",
       "      <th>pasien</th>\n",
       "    </tr>\n",
       "    <tr>\n",
       "      <th>dokter</th>\n",
       "      <th></th>\n",
       "    </tr>\n",
       "  </thead>\n",
       "  <tbody>\n",
       "    <tr>\n",
       "      <th>Budi</th>\n",
       "      <td>Wiwin</td>\n",
       "    </tr>\n",
       "    <tr>\n",
       "      <th>Iwan</th>\n",
       "      <td>Asep</td>\n",
       "    </tr>\n",
       "    <tr>\n",
       "      <th>Wati</th>\n",
       "      <td>Lisa</td>\n",
       "    </tr>\n",
       "  </tbody>\n",
       "</table>\n",
       "</div>"
      ],
      "text/plain": [
       "       pasien\n",
       "dokter       \n",
       "Budi    Wiwin\n",
       "Iwan     Asep\n",
       "Wati     Lisa"
      ]
     },
     "execution_count": 6,
     "metadata": {},
     "output_type": "execute_result"
    }
   ],
   "source": [
    "df.groupby('dokter')['pasien'].last().to_frame()"
   ]
  }
 ],
 "metadata": {
  "kernelspec": {
   "display_name": "Python 3 (ipykernel)",
   "language": "python",
   "name": "python3"
  },
  "language_info": {
   "codemirror_mode": {
    "name": "ipython",
    "version": 3
   },
   "file_extension": ".py",
   "mimetype": "text/x-python",
   "name": "python",
   "nbconvert_exporter": "python",
   "pygments_lexer": "ipython3",
   "version": "3.11.7"
  }
 },
 "nbformat": 4,
 "nbformat_minor": 5
}
